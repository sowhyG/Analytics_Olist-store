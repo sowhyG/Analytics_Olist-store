{
 "cells": [
  {
   "cell_type": "code",
   "execution_count": 1,
   "metadata": {},
   "outputs": [],
   "source": [
    "import pandas as pd\n",
    "import numpy as np\n",
    "import seaborn as sns\n",
    "import matplotlib\n",
    "from matplotlib import pyplot as plt\n",
    "import datetime as dt\n",
    "from scipy import stats"
   ]
  },
  {
   "cell_type": "markdown",
   "metadata": {},
   "source": [
    "#### Order items"
   ]
  },
  {
   "cell_type": "code",
   "execution_count": 2,
   "metadata": {},
   "outputs": [],
   "source": [
    "order_items = pd.read_csv('olist_order_items_dataset.csv')"
   ]
  },
  {
   "cell_type": "code",
   "execution_count": 15,
   "metadata": {},
   "outputs": [
    {
     "data": {
      "text/html": [
       "<div>\n",
       "<style scoped>\n",
       "    .dataframe tbody tr th:only-of-type {\n",
       "        vertical-align: middle;\n",
       "    }\n",
       "\n",
       "    .dataframe tbody tr th {\n",
       "        vertical-align: top;\n",
       "    }\n",
       "\n",
       "    .dataframe thead th {\n",
       "        text-align: right;\n",
       "    }\n",
       "</style>\n",
       "<table border=\"1\" class=\"dataframe\">\n",
       "  <thead>\n",
       "    <tr style=\"text-align: right;\">\n",
       "      <th></th>\n",
       "      <th>order_id</th>\n",
       "      <th>order_item_id</th>\n",
       "      <th>product_id</th>\n",
       "      <th>seller_id</th>\n",
       "      <th>shipping_limit_date</th>\n",
       "      <th>price</th>\n",
       "      <th>freight_value</th>\n",
       "    </tr>\n",
       "  </thead>\n",
       "  <tbody>\n",
       "    <tr>\n",
       "      <th>0</th>\n",
       "      <td>00010242fe8c5a6d1ba2dd792cb16214</td>\n",
       "      <td>1</td>\n",
       "      <td>4244733e06e7ecb4970a6e2683c13e61</td>\n",
       "      <td>48436dade18ac8b2bce089ec2a041202</td>\n",
       "      <td>2017-09-19 09:45:35</td>\n",
       "      <td>58.90</td>\n",
       "      <td>13.29</td>\n",
       "    </tr>\n",
       "    <tr>\n",
       "      <th>1</th>\n",
       "      <td>00018f77f2f0320c557190d7a144bdd3</td>\n",
       "      <td>1</td>\n",
       "      <td>e5f2d52b802189ee658865ca93d83a8f</td>\n",
       "      <td>dd7ddc04e1b6c2c614352b383efe2d36</td>\n",
       "      <td>2017-05-03 11:05:13</td>\n",
       "      <td>239.90</td>\n",
       "      <td>19.93</td>\n",
       "    </tr>\n",
       "    <tr>\n",
       "      <th>2</th>\n",
       "      <td>000229ec398224ef6ca0657da4fc703e</td>\n",
       "      <td>1</td>\n",
       "      <td>c777355d18b72b67abbeef9df44fd0fd</td>\n",
       "      <td>5b51032eddd242adc84c38acab88f23d</td>\n",
       "      <td>2018-01-18 14:48:30</td>\n",
       "      <td>199.00</td>\n",
       "      <td>17.87</td>\n",
       "    </tr>\n",
       "    <tr>\n",
       "      <th>3</th>\n",
       "      <td>00024acbcdf0a6daa1e931b038114c75</td>\n",
       "      <td>1</td>\n",
       "      <td>7634da152a4610f1595efa32f14722fc</td>\n",
       "      <td>9d7a1d34a5052409006425275ba1c2b4</td>\n",
       "      <td>2018-08-15 10:10:18</td>\n",
       "      <td>12.99</td>\n",
       "      <td>12.79</td>\n",
       "    </tr>\n",
       "    <tr>\n",
       "      <th>4</th>\n",
       "      <td>00042b26cf59d7ce69dfabb4e55b4fd9</td>\n",
       "      <td>1</td>\n",
       "      <td>ac6c3623068f30de03045865e4e10089</td>\n",
       "      <td>df560393f3a51e74553ab94004ba5c87</td>\n",
       "      <td>2017-02-13 13:57:51</td>\n",
       "      <td>199.90</td>\n",
       "      <td>18.14</td>\n",
       "    </tr>\n",
       "  </tbody>\n",
       "</table>\n",
       "</div>"
      ],
      "text/plain": [
       "                           order_id  order_item_id  \\\n",
       "0  00010242fe8c5a6d1ba2dd792cb16214              1   \n",
       "1  00018f77f2f0320c557190d7a144bdd3              1   \n",
       "2  000229ec398224ef6ca0657da4fc703e              1   \n",
       "3  00024acbcdf0a6daa1e931b038114c75              1   \n",
       "4  00042b26cf59d7ce69dfabb4e55b4fd9              1   \n",
       "\n",
       "                         product_id                         seller_id  \\\n",
       "0  4244733e06e7ecb4970a6e2683c13e61  48436dade18ac8b2bce089ec2a041202   \n",
       "1  e5f2d52b802189ee658865ca93d83a8f  dd7ddc04e1b6c2c614352b383efe2d36   \n",
       "2  c777355d18b72b67abbeef9df44fd0fd  5b51032eddd242adc84c38acab88f23d   \n",
       "3  7634da152a4610f1595efa32f14722fc  9d7a1d34a5052409006425275ba1c2b4   \n",
       "4  ac6c3623068f30de03045865e4e10089  df560393f3a51e74553ab94004ba5c87   \n",
       "\n",
       "   shipping_limit_date   price  freight_value  \n",
       "0  2017-09-19 09:45:35   58.90          13.29  \n",
       "1  2017-05-03 11:05:13  239.90          19.93  \n",
       "2  2018-01-18 14:48:30  199.00          17.87  \n",
       "3  2018-08-15 10:10:18   12.99          12.79  \n",
       "4  2017-02-13 13:57:51  199.90          18.14  "
      ]
     },
     "execution_count": 15,
     "metadata": {},
     "output_type": "execute_result"
    }
   ],
   "source": [
    "order_items.head()"
   ]
  },
  {
   "cell_type": "code",
   "execution_count": 16,
   "metadata": {},
   "outputs": [
    {
     "name": "stdout",
     "output_type": "stream",
     "text": [
      "<class 'pandas.core.frame.DataFrame'>\n",
      "RangeIndex: 112650 entries, 0 to 112649\n",
      "Data columns (total 7 columns):\n",
      " #   Column               Non-Null Count   Dtype  \n",
      "---  ------               --------------   -----  \n",
      " 0   order_id             112650 non-null  object \n",
      " 1   order_item_id        112650 non-null  int64  \n",
      " 2   product_id           112650 non-null  object \n",
      " 3   seller_id            112650 non-null  object \n",
      " 4   shipping_limit_date  112650 non-null  object \n",
      " 5   price                112650 non-null  float64\n",
      " 6   freight_value        112650 non-null  float64\n",
      "dtypes: float64(2), int64(1), object(4)\n",
      "memory usage: 6.0+ MB\n"
     ]
    }
   ],
   "source": [
    "order_items.info()"
   ]
  },
  {
   "cell_type": "code",
   "execution_count": 70,
   "metadata": {},
   "outputs": [
    {
     "data": {
      "text/html": [
       "<div>\n",
       "<style scoped>\n",
       "    .dataframe tbody tr th:only-of-type {\n",
       "        vertical-align: middle;\n",
       "    }\n",
       "\n",
       "    .dataframe tbody tr th {\n",
       "        vertical-align: top;\n",
       "    }\n",
       "\n",
       "    .dataframe thead th {\n",
       "        text-align: right;\n",
       "    }\n",
       "</style>\n",
       "<table border=\"1\" class=\"dataframe\">\n",
       "  <thead>\n",
       "    <tr style=\"text-align: right;\">\n",
       "      <th></th>\n",
       "      <th>price</th>\n",
       "      <th>freight_value</th>\n",
       "    </tr>\n",
       "  </thead>\n",
       "  <tbody>\n",
       "    <tr>\n",
       "      <th>count</th>\n",
       "      <td>112650.000000</td>\n",
       "      <td>112650.000000</td>\n",
       "    </tr>\n",
       "    <tr>\n",
       "      <th>mean</th>\n",
       "      <td>120.653739</td>\n",
       "      <td>19.990320</td>\n",
       "    </tr>\n",
       "    <tr>\n",
       "      <th>std</th>\n",
       "      <td>183.633928</td>\n",
       "      <td>15.806405</td>\n",
       "    </tr>\n",
       "    <tr>\n",
       "      <th>min</th>\n",
       "      <td>0.850000</td>\n",
       "      <td>0.000000</td>\n",
       "    </tr>\n",
       "    <tr>\n",
       "      <th>25%</th>\n",
       "      <td>39.900000</td>\n",
       "      <td>13.080000</td>\n",
       "    </tr>\n",
       "    <tr>\n",
       "      <th>50%</th>\n",
       "      <td>74.990000</td>\n",
       "      <td>16.260000</td>\n",
       "    </tr>\n",
       "    <tr>\n",
       "      <th>75%</th>\n",
       "      <td>134.900000</td>\n",
       "      <td>21.150000</td>\n",
       "    </tr>\n",
       "    <tr>\n",
       "      <th>max</th>\n",
       "      <td>6735.000000</td>\n",
       "      <td>409.680000</td>\n",
       "    </tr>\n",
       "  </tbody>\n",
       "</table>\n",
       "</div>"
      ],
      "text/plain": [
       "               price  freight_value\n",
       "count  112650.000000  112650.000000\n",
       "mean      120.653739      19.990320\n",
       "std       183.633928      15.806405\n",
       "min         0.850000       0.000000\n",
       "25%        39.900000      13.080000\n",
       "50%        74.990000      16.260000\n",
       "75%       134.900000      21.150000\n",
       "max      6735.000000     409.680000"
      ]
     },
     "execution_count": 70,
     "metadata": {},
     "output_type": "execute_result"
    }
   ],
   "source": [
    "order_items[['price', 'freight_value']].describe()"
   ]
  },
  {
   "cell_type": "code",
   "execution_count": 76,
   "metadata": {},
   "outputs": [
    {
     "data": {
      "image/png": "[encoded data removed]",
      "text/plain": [
       "<Figure size 1008x288 with 2 Axes>"
      ]
     },
     "metadata": {
      "needs_background": "light"
     },
     "output_type": "display_data"
    }
   ],
   "source": [
    "# Построим гистограммы распределения для двух количественных переменных\n",
    "fig, axes = plt.subplots(1, 2, figsize=(14,4))\n",
    "order_items[['price']].hist('price', bins=100, ax=axes[0])\n",
    "order_items[['freight_value']].hist('freight_value', bins=100, ax=axes[1])\n",
    "fig.suptitle('Частотные графики переменных (разбиение интервала по 100 элементов)', fontsize=12)\n",
    "plt.show()"
   ]
  },
  {
   "cell_type": "code",
   "execution_count": 6,
   "metadata": {},
   "outputs": [
    {
     "data": {
      "image/png": "[encoded data removed]",
      "text/plain": [
       "<Figure size 1008x288 with 2 Axes>"
      ]
     },
     "metadata": {
      "needs_background": "light"
     },
     "output_type": "display_data"
    }
   ],
   "source": [
    "#  И графики box plot\n",
    "fig, axes = plt.subplots(1, 2, figsize=(14,4))\n",
    "order_items[['price']].boxplot(rot=0, ax=axes[0], vert=False)\n",
    "order_items[['freight_value']].boxplot(rot=0, ax=axes[1], vert=False)\n",
    "fig.suptitle('Коробчатые диаграммы для двух переменных', fontsize=12)\n",
    "plt.show()"
   ]
  },
  {
   "cell_type": "code",
   "execution_count": null,
   "metadata": {},
   "outputs": [],
   "source": [
    "# Для обех переменных распределение похоже на лонгнормальное (натуральный логарифм таких им. нормальное распределение)"
   ]
  },
  {
   "cell_type": "code",
   "execution_count": 23,
   "metadata": {
    "scrolled": true
   },
   "outputs": [
    {
     "data": {
      "text/html": [
       "<div>\n",
       "<style scoped>\n",
       "    .dataframe tbody tr th:only-of-type {\n",
       "        vertical-align: middle;\n",
       "    }\n",
       "\n",
       "    .dataframe tbody tr th {\n",
       "        vertical-align: top;\n",
       "    }\n",
       "\n",
       "    .dataframe thead th {\n",
       "        text-align: right;\n",
       "    }\n",
       "</style>\n",
       "<table border=\"1\" class=\"dataframe\">\n",
       "  <thead>\n",
       "    <tr style=\"text-align: right;\">\n",
       "      <th></th>\n",
       "      <th>order_id</th>\n",
       "      <th>order_item_id</th>\n",
       "      <th>product_id</th>\n",
       "      <th>seller_id</th>\n",
       "      <th>shipping_limit_date</th>\n",
       "      <th>price</th>\n",
       "      <th>freight_value</th>\n",
       "      <th>lg_price</th>\n",
       "      <th>lg_freight_value</th>\n",
       "    </tr>\n",
       "  </thead>\n",
       "  <tbody>\n",
       "    <tr>\n",
       "      <th>0</th>\n",
       "      <td>00010242fe8c5a6d1ba2dd792cb16214</td>\n",
       "      <td>1</td>\n",
       "      <td>4244733e06e7ecb4970a6e2683c13e61</td>\n",
       "      <td>48436dade18ac8b2bce089ec2a041202</td>\n",
       "      <td>2017-09-19 09:45:35</td>\n",
       "      <td>58.90</td>\n",
       "      <td>13.29</td>\n",
       "      <td>4.075841</td>\n",
       "      <td>2.587012</td>\n",
       "    </tr>\n",
       "    <tr>\n",
       "      <th>1</th>\n",
       "      <td>00018f77f2f0320c557190d7a144bdd3</td>\n",
       "      <td>1</td>\n",
       "      <td>e5f2d52b802189ee658865ca93d83a8f</td>\n",
       "      <td>dd7ddc04e1b6c2c614352b383efe2d36</td>\n",
       "      <td>2017-05-03 11:05:13</td>\n",
       "      <td>239.90</td>\n",
       "      <td>19.93</td>\n",
       "      <td>5.480222</td>\n",
       "      <td>2.992226</td>\n",
       "    </tr>\n",
       "    <tr>\n",
       "      <th>2</th>\n",
       "      <td>000229ec398224ef6ca0657da4fc703e</td>\n",
       "      <td>1</td>\n",
       "      <td>c777355d18b72b67abbeef9df44fd0fd</td>\n",
       "      <td>5b51032eddd242adc84c38acab88f23d</td>\n",
       "      <td>2018-01-18 14:48:30</td>\n",
       "      <td>199.00</td>\n",
       "      <td>17.87</td>\n",
       "      <td>5.293305</td>\n",
       "      <td>2.883123</td>\n",
       "    </tr>\n",
       "    <tr>\n",
       "      <th>3</th>\n",
       "      <td>00024acbcdf0a6daa1e931b038114c75</td>\n",
       "      <td>1</td>\n",
       "      <td>7634da152a4610f1595efa32f14722fc</td>\n",
       "      <td>9d7a1d34a5052409006425275ba1c2b4</td>\n",
       "      <td>2018-08-15 10:10:18</td>\n",
       "      <td>12.99</td>\n",
       "      <td>12.79</td>\n",
       "      <td>2.564180</td>\n",
       "      <td>2.548664</td>\n",
       "    </tr>\n",
       "    <tr>\n",
       "      <th>4</th>\n",
       "      <td>00042b26cf59d7ce69dfabb4e55b4fd9</td>\n",
       "      <td>1</td>\n",
       "      <td>ac6c3623068f30de03045865e4e10089</td>\n",
       "      <td>df560393f3a51e74553ab94004ba5c87</td>\n",
       "      <td>2017-02-13 13:57:51</td>\n",
       "      <td>199.90</td>\n",
       "      <td>18.14</td>\n",
       "      <td>5.297817</td>\n",
       "      <td>2.898119</td>\n",
       "    </tr>\n",
       "    <tr>\n",
       "      <th>...</th>\n",
       "      <td>...</td>\n",
       "      <td>...</td>\n",
       "      <td>...</td>\n",
       "      <td>...</td>\n",
       "      <td>...</td>\n",
       "      <td>...</td>\n",
       "      <td>...</td>\n",
       "      <td>...</td>\n",
       "      <td>...</td>\n",
       "    </tr>\n",
       "    <tr>\n",
       "      <th>112645</th>\n",
       "      <td>fffc94f6ce00a00581880bf54a75a037</td>\n",
       "      <td>1</td>\n",
       "      <td>4aa6014eceb682077f9dc4bffebc05b0</td>\n",
       "      <td>b8bc237ba3788b23da09c0f1f3a3288c</td>\n",
       "      <td>2018-05-02 04:11:01</td>\n",
       "      <td>299.99</td>\n",
       "      <td>43.41</td>\n",
       "      <td>5.703749</td>\n",
       "      <td>3.770690</td>\n",
       "    </tr>\n",
       "    <tr>\n",
       "      <th>112646</th>\n",
       "      <td>fffcd46ef2263f404302a634eb57f7eb</td>\n",
       "      <td>1</td>\n",
       "      <td>32e07fd915822b0765e448c4dd74c828</td>\n",
       "      <td>f3c38ab652836d21de61fb8314b69182</td>\n",
       "      <td>2018-07-20 04:31:48</td>\n",
       "      <td>350.00</td>\n",
       "      <td>36.53</td>\n",
       "      <td>5.857933</td>\n",
       "      <td>3.598134</td>\n",
       "    </tr>\n",
       "    <tr>\n",
       "      <th>112647</th>\n",
       "      <td>fffce4705a9662cd70adb13d4a31832d</td>\n",
       "      <td>1</td>\n",
       "      <td>72a30483855e2eafc67aee5dc2560482</td>\n",
       "      <td>c3cfdc648177fdbbbb35635a37472c53</td>\n",
       "      <td>2017-10-30 17:14:25</td>\n",
       "      <td>99.90</td>\n",
       "      <td>16.95</td>\n",
       "      <td>4.604170</td>\n",
       "      <td>2.830268</td>\n",
       "    </tr>\n",
       "    <tr>\n",
       "      <th>112648</th>\n",
       "      <td>fffe18544ffabc95dfada21779c9644f</td>\n",
       "      <td>1</td>\n",
       "      <td>9c422a519119dcad7575db5af1ba540e</td>\n",
       "      <td>2b3e4a2a3ea8e01938cabda2a3e5cc79</td>\n",
       "      <td>2017-08-21 00:04:32</td>\n",
       "      <td>55.99</td>\n",
       "      <td>8.72</td>\n",
       "      <td>4.025173</td>\n",
       "      <td>2.165619</td>\n",
       "    </tr>\n",
       "    <tr>\n",
       "      <th>112649</th>\n",
       "      <td>fffe41c64501cc87c801fd61db3f6244</td>\n",
       "      <td>1</td>\n",
       "      <td>350688d9dc1e75ff97be326363655e01</td>\n",
       "      <td>f7ccf836d21b2fb1de37564105216cc1</td>\n",
       "      <td>2018-06-12 17:10:13</td>\n",
       "      <td>43.00</td>\n",
       "      <td>12.79</td>\n",
       "      <td>3.761200</td>\n",
       "      <td>2.548664</td>\n",
       "    </tr>\n",
       "  </tbody>\n",
       "</table>\n",
       "<p>112650 rows × 9 columns</p>\n",
       "</div>"
      ],
      "text/plain": [
       "                                order_id  order_item_id  \\\n",
       "0       00010242fe8c5a6d1ba2dd792cb16214              1   \n",
       "1       00018f77f2f0320c557190d7a144bdd3              1   \n",
       "2       000229ec398224ef6ca0657da4fc703e              1   \n",
       "3       00024acbcdf0a6daa1e931b038114c75              1   \n",
       "4       00042b26cf59d7ce69dfabb4e55b4fd9              1   \n",
       "...                                  ...            ...   \n",
       "112645  fffc94f6ce00a00581880bf54a75a037              1   \n",
       "112646  fffcd46ef2263f404302a634eb57f7eb              1   \n",
       "112647  fffce4705a9662cd70adb13d4a31832d              1   \n",
       "112648  fffe18544ffabc95dfada21779c9644f              1   \n",
       "112649  fffe41c64501cc87c801fd61db3f6244              1   \n",
       "\n",
       "                              product_id                         seller_id  \\\n",
       "0       4244733e06e7ecb4970a6e2683c13e61  48436dade18ac8b2bce089ec2a041202   \n",
       "1       e5f2d52b802189ee658865ca93d83a8f  dd7ddc04e1b6c2c614352b383efe2d36   \n",
       "2       c777355d18b72b67abbeef9df44fd0fd  5b51032eddd242adc84c38acab88f23d   \n",
       "3       7634da152a4610f1595efa32f14722fc  9d7a1d34a5052409006425275ba1c2b4   \n",
       "4       ac6c3623068f30de03045865e4e10089  df560393f3a51e74553ab94004ba5c87   \n",
       "...                                  ...                               ...   \n",
       "112645  4aa6014eceb682077f9dc4bffebc05b0  b8bc237ba3788b23da09c0f1f3a3288c   \n",
       "112646  32e07fd915822b0765e448c4dd74c828  f3c38ab652836d21de61fb8314b69182   \n",
       "112647  72a30483855e2eafc67aee5dc2560482  c3cfdc648177fdbbbb35635a37472c53   \n",
       "112648  9c422a519119dcad7575db5af1ba540e  2b3e4a2a3ea8e01938cabda2a3e5cc79   \n",
       "112649  350688d9dc1e75ff97be326363655e01  f7ccf836d21b2fb1de37564105216cc1   \n",
       "\n",
       "        shipping_limit_date   price  freight_value  lg_price  lg_freight_value  \n",
       "0       2017-09-19 09:45:35   58.90          13.29  4.075841          2.587012  \n",
       "1       2017-05-03 11:05:13  239.90          19.93  5.480222          2.992226  \n",
       "2       2018-01-18 14:48:30  199.00          17.87  5.293305          2.883123  \n",
       "3       2018-08-15 10:10:18   12.99          12.79  2.564180          2.548664  \n",
       "4       2017-02-13 13:57:51  199.90          18.14  5.297817          2.898119  \n",
       "...                     ...     ...            ...       ...               ...  \n",
       "112645  2018-05-02 04:11:01  299.99          43.41  5.703749          3.770690  \n",
       "112646  2018-07-20 04:31:48  350.00          36.53  5.857933          3.598134  \n",
       "112647  2017-10-30 17:14:25   99.90          16.95  4.604170          2.830268  \n",
       "112648  2017-08-21 00:04:32   55.99           8.72  4.025173          2.165619  \n",
       "112649  2018-06-12 17:10:13   43.00          12.79  3.761200          2.548664  \n",
       "\n",
       "[112650 rows x 9 columns]"
      ]
     },
     "execution_count": 23,
     "metadata": {},
     "output_type": "execute_result"
    }
   ],
   "source": [
    "# Чтобы подтвердить предположение о логнормальном распределении переменных\n",
    "# order_items_lg = order_items.assign(order_items['ln_price'] == np.log(order_items['price']), order_items['ln_freight_value'] == np.log(order_items['freight_value']))\n",
    "order_items_lg = order_items.assign(**{'lg_price': np.log(order_items['price']), 'lg_freight_value': np.log(order_items['freight_value'])})\n",
    "order_items_lg"
   ]
  },
  {
   "cell_type": "code",
   "execution_count": 24,
   "metadata": {},
   "outputs": [
    {
     "data": {
      "image/png": "[encoded data removed]",
      "text/plain": [
       "<Figure size 432x288 with 1 Axes>"
      ]
     },
     "metadata": {
      "needs_background": "light"
     },
     "output_type": "display_data"
    }
   ],
   "source": [
    "# Для переменной price предположение подтверждается:\n",
    "n, bins, patches = plt.hist(order_items_lg['lg_price'], 100)\n",
    "\n",
    "plt.xlabel('lg_price')\n",
    "plt.ylabel('frecuency')\n",
    "plt.title('Частотный график price \\n (разбиение интервала по 100 элементов)')\n",
    "plt.grid(True)\n",
    "plt.show()"
   ]
  },
  {
   "cell_type": "code",
   "execution_count": 28,
   "metadata": {
    "scrolled": false
   },
   "outputs": [
    {
     "data": {
      "text/html": [
       "<div>\n",
       "<style scoped>\n",
       "    .dataframe tbody tr th:only-of-type {\n",
       "        vertical-align: middle;\n",
       "    }\n",
       "\n",
       "    .dataframe tbody tr th {\n",
       "        vertical-align: top;\n",
       "    }\n",
       "\n",
       "    .dataframe thead th {\n",
       "        text-align: right;\n",
       "    }\n",
       "</style>\n",
       "<table border=\"1\" class=\"dataframe\">\n",
       "  <thead>\n",
       "    <tr style=\"text-align: right;\">\n",
       "      <th></th>\n",
       "      <th>order_item_id</th>\n",
       "      <th>price</th>\n",
       "      <th>freight_value</th>\n",
       "      <th>lg_price</th>\n",
       "      <th>lg_freight_value</th>\n",
       "    </tr>\n",
       "  </thead>\n",
       "  <tbody>\n",
       "    <tr>\n",
       "      <th>count</th>\n",
       "      <td>112650.000000</td>\n",
       "      <td>112650.000000</td>\n",
       "      <td>112650.000000</td>\n",
       "      <td>112650.000000</td>\n",
       "      <td>1.126500e+05</td>\n",
       "    </tr>\n",
       "    <tr>\n",
       "      <th>mean</th>\n",
       "      <td>1.197834</td>\n",
       "      <td>120.653739</td>\n",
       "      <td>19.990320</td>\n",
       "      <td>4.317378</td>\n",
       "      <td>-inf</td>\n",
       "    </tr>\n",
       "    <tr>\n",
       "      <th>std</th>\n",
       "      <td>0.705124</td>\n",
       "      <td>183.633928</td>\n",
       "      <td>15.806405</td>\n",
       "      <td>0.925009</td>\n",
       "      <td>NaN</td>\n",
       "    </tr>\n",
       "    <tr>\n",
       "      <th>min</th>\n",
       "      <td>1.000000</td>\n",
       "      <td>0.850000</td>\n",
       "      <td>0.000000</td>\n",
       "      <td>-0.162519</td>\n",
       "      <td>-inf</td>\n",
       "    </tr>\n",
       "    <tr>\n",
       "      <th>25%</th>\n",
       "      <td>1.000000</td>\n",
       "      <td>39.900000</td>\n",
       "      <td>13.080000</td>\n",
       "      <td>3.686376</td>\n",
       "      <td>2.571084e+00</td>\n",
       "    </tr>\n",
       "    <tr>\n",
       "      <th>50%</th>\n",
       "      <td>1.000000</td>\n",
       "      <td>74.990000</td>\n",
       "      <td>16.260000</td>\n",
       "      <td>4.317355</td>\n",
       "      <td>2.788708e+00</td>\n",
       "    </tr>\n",
       "    <tr>\n",
       "      <th>75%</th>\n",
       "      <td>1.000000</td>\n",
       "      <td>134.900000</td>\n",
       "      <td>21.150000</td>\n",
       "      <td>4.904534</td>\n",
       "      <td>3.051640e+00</td>\n",
       "    </tr>\n",
       "    <tr>\n",
       "      <th>max</th>\n",
       "      <td>21.000000</td>\n",
       "      <td>6735.000000</td>\n",
       "      <td>409.680000</td>\n",
       "      <td>8.815073</td>\n",
       "      <td>6.015376e+00</td>\n",
       "    </tr>\n",
       "  </tbody>\n",
       "</table>\n",
       "</div>"
      ],
      "text/plain": [
       "       order_item_id          price  freight_value       lg_price  \\\n",
       "count  112650.000000  112650.000000  112650.000000  112650.000000   \n",
       "mean        1.197834     120.653739      19.990320       4.317378   \n",
       "std         0.705124     183.633928      15.806405       0.925009   \n",
       "min         1.000000       0.850000       0.000000      -0.162519   \n",
       "25%         1.000000      39.900000      13.080000       3.686376   \n",
       "50%         1.000000      74.990000      16.260000       4.317355   \n",
       "75%         1.000000     134.900000      21.150000       4.904534   \n",
       "max        21.000000    6735.000000     409.680000       8.815073   \n",
       "\n",
       "       lg_freight_value  \n",
       "count      1.126500e+05  \n",
       "mean               -inf  \n",
       "std                 NaN  \n",
       "min                -inf  \n",
       "25%        2.571084e+00  \n",
       "50%        2.788708e+00  \n",
       "75%        3.051640e+00  \n",
       "max        6.015376e+00  "
      ]
     },
     "execution_count": 28,
     "metadata": {},
     "output_type": "execute_result"
    }
   ],
   "source": [
    "# Для переменной freight_value были нулевые значения, для которых натуральный логарифм не определен\n",
    "order_items_lg.describe() # -> -inf - минус бесконечность"
   ]
  },
  {
   "cell_type": "code",
   "execution_count": 77,
   "metadata": {
    "scrolled": true
   },
   "outputs": [],
   "source": [
    "# Фильтруем бесконечные малые (-inf) - это логарифмы нуля (функция определена, когда  x > 0)\n",
    "# order_items_lg[order_items_lg['lg_freight_value'].isin([-np.inf])] "
   ]
  },
  {
   "cell_type": "code",
   "execution_count": null,
   "metadata": {},
   "outputs": [],
   "source": [
    "# Аномальные значения цен и стоимости доставки\n",
    "# цены зависят от категории, доставка зависит, по крайней мере, от расстояния и весо-габаритных характеристик товаров"
   ]
  },
  {
   "cell_type": "code",
   "execution_count": null,
   "metadata": {
    "scrolled": true
   },
   "outputs": [],
   "source": [
    "# Сравним 3 подхода к определению выбросов:\n",
    "# IQR (SD) среднее +/- 3SD (нормальное распределение) standard deviation (SD)\n",
    "# MAD медиана +/- 2,5MAD (ненормальное распределение) median absolute deviation\n",
    "# квантили 0,01 и 0,99"
   ]
  },
  {
   "cell_type": "markdown",
   "metadata": {
    "scrolled": true
   },
   "source": [
    "### 1,5xIQR (Interquartile range) rule"
   ]
  },
  {
   "cell_type": "code",
   "execution_count": 100,
   "metadata": {},
   "outputs": [],
   "source": [
    "# from IPython.display import Image\n",
    "# Image('https://upload.wikimedia.org/wikipedia/commons/8/89/Boxplot_vs_PDF.png', width=400, height=400)"
   ]
  },
  {
   "cell_type": "code",
   "execution_count": 98,
   "metadata": {},
   "outputs": [
    {
     "name": "stdout",
     "output_type": "stream",
     "text": [
      "price: -102.60 - 277.40\n"
     ]
    }
   ],
   "source": [
    "# Пограничные значения price, определяемые как границы потенциальных выбросов:\n",
    "price_low = order_items['price'].quantile(.25) - 1.5*(order_items['price'].quantile(.75) - order_items['price'].quantile(.25))\n",
    "price_high = order_items['price'].quantile(.75) + 1.5*(order_items['price'].quantile(.75) - order_items['price'].quantile(.25))\n",
    "print(f'price: {price_low:.2f} - {price_high:.2f}')"
   ]
  },
  {
   "cell_type": "code",
   "execution_count": 93,
   "metadata": {},
   "outputs": [
    {
     "data": {
      "text/plain": [
       "8427"
      ]
     },
     "execution_count": 93,
     "metadata": {},
     "output_type": "execute_result"
    }
   ],
   "source": [
    "# Кол-во значений price за пределами 1,5xIQR:\n",
    "len(order_items.loc[(order_items['price'] < price_low) | (order_items['price'] > price_high)])"
   ]
  },
  {
   "cell_type": "code",
   "execution_count": 101,
   "metadata": {},
   "outputs": [
    {
     "name": "stdout",
     "output_type": "stream",
     "text": [
      "freight_value: 0.98 - 33.25\n"
     ]
    }
   ],
   "source": [
    "# Пограничные значения freight_value, определяемые как границы потенциальных выбросов:\n",
    "freight_value_low = order_items.freight_value.quantile(.25) - 1.5*(order_items.freight_value.quantile(.75) - order_items.freight_value.quantile(.25))\n",
    "freight_value_high = order_items.freight_value.quantile(.75) + 1.5*(order_items.freight_value.quantile(.75) - order_items.freight_value.quantile(.25))\n",
    "print(f'freight_value: {freight_value_low:.2f} - {freight_value_high:.2f}')"
   ]
  },
  {
   "cell_type": "code",
   "execution_count": 102,
   "metadata": {},
   "outputs": [
    {
     "data": {
      "text/plain": [
       "12134"
      ]
     },
     "execution_count": 102,
     "metadata": {},
     "output_type": "execute_result"
    }
   ],
   "source": [
    "# Кол-во значений freight_value за пределами 1,5xIQR:\n",
    "len(order_items.loc[(order_items['freight_value'] < freight_value_low) | (order_items['freight_value'] > freight_value_high)])"
   ]
  },
  {
   "cell_type": "code",
   "execution_count": 108,
   "metadata": {},
   "outputs": [
    {
     "data": {
      "image/png": "[encoded data removed]",
      "text/plain": [
       "<Figure size 864x432 with 1 Axes>"
      ]
     },
     "metadata": {
      "needs_background": "light"
     },
     "output_type": "display_data"
    }
   ],
   "source": [
    "# Построим диаграмму рассеяния для двух переменных, также для идентификации выбросов\n",
    "fig, ax = plt.subplots(figsize=(12,6))\n",
    "ax.scatter(order_items['price'], order_items['freight_value'])\n",
    "ax.set_xlabel('price')\n",
    "ax.set_ylabel('freight_value')\n",
    "# область, ограниченная пограничными значениями price и freight_value\n",
    "plt.axvline(0, color = 'red', alpha=0.8, linestyle = 'dashed')\n",
    "plt.axvline(price_high, color = 'red', alpha=0.8, linestyle = 'dashed')\n",
    "plt.axhline(freight_value_low, color = 'red', alpha=0.8, linestyle = 'dashed')\n",
    "plt.axhline(freight_value_high, color = 'red', alpha=0.8, linestyle = 'dashed')\n",
    "plt.show()"
   ]
  },
  {
   "cell_type": "code",
   "execution_count": 115,
   "metadata": {},
   "outputs": [
    {
     "data": {
      "text/plain": [
       "(104223, 7)"
      ]
     },
     "execution_count": 115,
     "metadata": {},
     "output_type": "execute_result"
    }
   ],
   "source": [
    "# Исключим эти значения\n",
    "order_items_IQRfiltered = order_items[(order_items['price'] < price_high) & (order_items['price'] > price_low)]\n",
    "order_items_IQRfiltered.shape"
   ]
  },
  {
   "cell_type": "code",
   "execution_count": 116,
   "metadata": {},
   "outputs": [
    {
     "data": {
      "image/png": "[encoded data removed]",
      "text/plain": [
       "<Figure size 432x288 with 1 Axes>"
      ]
     },
     "metadata": {
      "needs_background": "light"
     },
     "output_type": "display_data"
    }
   ],
   "source": [
    "# Смотрим как изменилось распределение переменной price\n",
    "n, bins, patches = plt.hist(order_items_IQRfiltered['price'], 100)\n",
    "\n",
    "plt.xlabel('price')\n",
    "plt.ylabel('frecuency')\n",
    "plt.title('Частотный график price \\n (разбиение интервала по 100 элементов)')\n",
    "plt.grid(True)\n",
    "plt.show()"
   ]
  },
  {
   "cell_type": "code",
   "execution_count": 117,
   "metadata": {},
   "outputs": [
    {
     "name": "stdout",
     "output_type": "stream",
     "text": [
      "freight_value: 2.21 - 30.41\n"
     ]
    }
   ],
   "source": [
    "# Пограничные значения freight_value, определяемые как границы потенциальных выбросов (пересчитали после удаления записей):\n",
    "freight_value_low = order_items_IQRfiltered['freight_value'].quantile(.25) - 1.5*(order_items_IQRfiltered['freight_value'].quantile(.75) - order_items_IQRfiltered['freight_value'].quantile(.25))\n",
    "freight_value_high = order_items_IQRfiltered['freight_value'].quantile(.75) + 1.5*(order_items_IQRfiltered['freight_value'].quantile(.75) - order_items_IQRfiltered['freight_value'].quantile(.25))\n",
    "print(f'freight_value: {freight_value_low:.2f} - {freight_value_high:.2f}')"
   ]
  },
  {
   "cell_type": "code",
   "execution_count": 118,
   "metadata": {},
   "outputs": [
    {
     "data": {
      "text/plain": [
       "10248"
      ]
     },
     "execution_count": 118,
     "metadata": {},
     "output_type": "execute_result"
    }
   ],
   "source": [
    "# Кол-во значений freight_value за пределами 1,5xIQR:\n",
    "len(order_items_IQRfiltered.loc[(order_items_IQRfiltered['freight_value'] < freight_value_low) | (order_items_IQRfiltered['freight_value'] > freight_value_high)])"
   ]
  },
  {
   "cell_type": "code",
   "execution_count": 121,
   "metadata": {},
   "outputs": [
    {
     "data": {
      "text/plain": [
       "(93975, 7)"
      ]
     },
     "execution_count": 121,
     "metadata": {},
     "output_type": "execute_result"
    }
   ],
   "source": [
    "# Исключим эти значения\n",
    "order_items_IQRfiltered = order_items_IQRfiltered[(order_items_IQRfiltered['freight_value'] < freight_value_high) & (order_items_IQRfiltered['freight_value'] > freight_value_low)]\n",
    "order_items_IQRfiltered.shape"
   ]
  },
  {
   "cell_type": "code",
   "execution_count": 123,
   "metadata": {},
   "outputs": [
    {
     "data": {
      "image/png": "[encoded data removed]",
      "text/plain": [
       "<Figure size 1008x288 with 2 Axes>"
      ]
     },
     "metadata": {
      "needs_background": "light"
     },
     "output_type": "display_data"
    }
   ],
   "source": [
    "# Смотрим как изменилось распределение переменных:\n",
    "fig, axes = plt.subplots(1, 2, figsize=(14,4))\n",
    "order_items_IQRfiltered[['price']].hist('price', bins=100, ax=axes[0])\n",
    "order_items_IQRfiltered[['freight_value']].hist('freight_value', bins=100, ax=axes[1])\n",
    "fig.suptitle('Частотные графики переменных (разбиение интервала по 100 элементов)', fontsize=12)\n",
    "plt.show()\n"
   ]
  },
  {
   "cell_type": "code",
   "execution_count": 125,
   "metadata": {},
   "outputs": [
    {
     "data": {
      "text/plain": [
       "(93975, 7)"
      ]
     },
     "execution_count": 125,
     "metadata": {},
     "output_type": "execute_result"
    }
   ],
   "source": [
    "order_items_IQRfiltered.shape"
   ]
  },
  {
   "cell_type": "code",
   "execution_count": 127,
   "metadata": {},
   "outputs": [
    {
     "data": {
      "text/plain": [
       "0.8342210386151797"
      ]
     },
     "execution_count": 127,
     "metadata": {},
     "output_type": "execute_result"
    }
   ],
   "source": [
    "order_items_IQRfiltered.shape[0]/order_items.shape[0]"
   ]
  },
  {
   "cell_type": "code",
   "execution_count": 124,
   "metadata": {},
   "outputs": [
    {
     "data": {
      "text/html": [
       "<div>\n",
       "<style scoped>\n",
       "    .dataframe tbody tr th:only-of-type {\n",
       "        vertical-align: middle;\n",
       "    }\n",
       "\n",
       "    .dataframe tbody tr th {\n",
       "        vertical-align: top;\n",
       "    }\n",
       "\n",
       "    .dataframe thead th {\n",
       "        text-align: right;\n",
       "    }\n",
       "</style>\n",
       "<table border=\"1\" class=\"dataframe\">\n",
       "  <thead>\n",
       "    <tr style=\"text-align: right;\">\n",
       "      <th></th>\n",
       "      <th>order_item_id</th>\n",
       "      <th>price</th>\n",
       "      <th>freight_value</th>\n",
       "    </tr>\n",
       "  </thead>\n",
       "  <tbody>\n",
       "    <tr>\n",
       "      <th>count</th>\n",
       "      <td>93975.000000</td>\n",
       "      <td>93975.000000</td>\n",
       "      <td>93975.000000</td>\n",
       "    </tr>\n",
       "    <tr>\n",
       "      <th>mean</th>\n",
       "      <td>1.202373</td>\n",
       "      <td>79.191667</td>\n",
       "      <td>15.751864</td>\n",
       "    </tr>\n",
       "    <tr>\n",
       "      <th>std</th>\n",
       "      <td>0.709123</td>\n",
       "      <td>55.980034</td>\n",
       "      <td>5.113773</td>\n",
       "    </tr>\n",
       "    <tr>\n",
       "      <th>min</th>\n",
       "      <td>1.000000</td>\n",
       "      <td>0.850000</td>\n",
       "      <td>2.240000</td>\n",
       "    </tr>\n",
       "    <tr>\n",
       "      <th>25%</th>\n",
       "      <td>1.000000</td>\n",
       "      <td>35.700000</td>\n",
       "      <td>12.660000</td>\n",
       "    </tr>\n",
       "    <tr>\n",
       "      <th>50%</th>\n",
       "      <td>1.000000</td>\n",
       "      <td>60.600000</td>\n",
       "      <td>15.350000</td>\n",
       "    </tr>\n",
       "    <tr>\n",
       "      <th>75%</th>\n",
       "      <td>1.000000</td>\n",
       "      <td>109.900000</td>\n",
       "      <td>18.370000</td>\n",
       "    </tr>\n",
       "    <tr>\n",
       "      <th>max</th>\n",
       "      <td>21.000000</td>\n",
       "      <td>277.000000</td>\n",
       "      <td>30.410000</td>\n",
       "    </tr>\n",
       "  </tbody>\n",
       "</table>\n",
       "</div>"
      ],
      "text/plain": [
       "       order_item_id         price  freight_value\n",
       "count   93975.000000  93975.000000   93975.000000\n",
       "mean        1.202373     79.191667      15.751864\n",
       "std         0.709123     55.980034       5.113773\n",
       "min         1.000000      0.850000       2.240000\n",
       "25%         1.000000     35.700000      12.660000\n",
       "50%         1.000000     60.600000      15.350000\n",
       "75%         1.000000    109.900000      18.370000\n",
       "max        21.000000    277.000000      30.410000"
      ]
     },
     "execution_count": 124,
     "metadata": {},
     "output_type": "execute_result"
    }
   ],
   "source": [
    "order_items_IQRfiltered.describe()"
   ]
  },
  {
   "cell_type": "markdown",
   "metadata": {
    "scrolled": true
   },
   "source": [
    "### 3xMAD (median absolute deviation) rule"
   ]
  },
  {
   "cell_type": "code",
   "execution_count": 5,
   "metadata": {},
   "outputs": [
    {
     "name": "stdout",
     "output_type": "stream",
     "text": [
      "MAD_price: 42.09\n",
      "MAD_freight_value: 3.61\n"
     ]
    }
   ],
   "source": [
    "MAD_price = stats.median_absolute_deviation(order_items['price'], scale=1) # где:\n",
    "# scale=1 # масштабирующий коэффициент для нормального распределения\n",
    "# scale=1/order_items['price'].quantile(.75) # масштабирующий коэффициент для симметричного распределения, отличного от нормального \n",
    "MAD_freight_value = stats.median_absolute_deviation(order_items['freight_value'], scale=1)\n",
    "print(f'MAD_price: {MAD_price:.2f}')\n",
    "print(f'MAD_freight_value: {MAD_freight_value:.2f}')\n",
    "# np.median(np.absolute(x - np.median(x)))\n",
    "# MAD_price = np.median(np.absolute(order_items['price'] - np.median(order_items['price'])))\n",
    "# MAD_freight_value = np.median(np.absolute(order_items['freight_value'] - np.median(order_items['freight_value'])))"
   ]
  },
  {
   "cell_type": "code",
   "execution_count": 15,
   "metadata": {},
   "outputs": [
    {
     "name": "stdout",
     "output_type": "stream",
     "text": [
      "price: -51.28 - 201.26\n",
      "freight_value: 5.43 - 27.09\n"
     ]
    }
   ],
   "source": [
    "# получаем более жесткие границы, чем при межквартильном расстоянии\n",
    "print(f'price: {order_items.price.median()-3*MAD_price:.2f} - {order_items.price.median()+3*MAD_price:.2f}')\n",
    "print(f'freight_value: {order_items.freight_value.median()-3*MAD_freight_value:.2f} - {order_items.freight_value.median()+3*MAD_freight_value:.2f}')\n",
    "# print(order_items['price'].median()-3*MAD_price2, order_items['price'].median()+3*MAD_price2)\n",
    "# print(order_items['freight_value'].median()-3*MAD_freight_value, order_items['freight_value'].median()+3*MAD_freight_value)"
   ]
  },
  {
   "cell_type": "code",
   "execution_count": 19,
   "metadata": {},
   "outputs": [
    {
     "data": {
      "text/plain": [
       "(112650, 7)"
      ]
     },
     "execution_count": 19,
     "metadata": {},
     "output_type": "execute_result"
    }
   ],
   "source": [
    "order_items.shape"
   ]
  },
  {
   "cell_type": "code",
   "execution_count": 32,
   "metadata": {},
   "outputs": [
    {
     "data": {
      "text/plain": [
       "56325"
      ]
     },
     "execution_count": 32,
     "metadata": {},
     "output_type": "execute_result"
    }
   ],
   "source": [
    "# номер записи с медианой для четного кол-ва записей\n",
    "int(order_items.shape[0]/2) #\"нижняя\" медиана\n",
    "# int((order_items.shape[0]+2)/2) #\"верхняя\" медиана\n",
    "# order_items.median_low() \n",
    "# order_items.median_high()\n",
    "#  .nanmedian() # чтобы игнорировать все значения nan"
   ]
  },
  {
   "cell_type": "code",
   "execution_count": 17,
   "metadata": {},
   "outputs": [],
   "source": [
    "# order_items.loc[order_items['price'] == order_items['price'].median()] # 132 строки с значением медианы (74.99)"
   ]
  },
  {
   "cell_type": "code",
   "execution_count": 35,
   "metadata": {},
   "outputs": [],
   "source": [
    "# С учетом ассиметричного характера распределения используем \"двойной\" MAD\n",
    "# отсортируем массив по price и разделим его на две части (по номеру записи с медианой)\n",
    "df1 = order_items.sort_values('price').iloc[:int(order_items.shape[0]/2), :] # с 0-ой до 56324-ой, всего 56325 записей  \n",
    "df2 = order_items.sort_values('price').iloc[int(order_items.shape[0]/2):, :] # с 56325-ой, всего 56325 записей\n",
    "\n",
    "# df1 = order_items.sort_values('price')[:int(order_items.shape[0]/2)] # с 0-ой до 56324-ой, всего 56325 записей \n",
    "# df2 = order_items.sort_values('price')[int((order_items.shape[0])/2):] # с 56325-ой, всего 56325 записей"
   ]
  },
  {
   "cell_type": "code",
   "execution_count": 38,
   "metadata": {},
   "outputs": [],
   "source": [
    "# df2.head()\n",
    "# df2.describe()\n",
    "# df2.info()"
   ]
  },
  {
   "cell_type": "code",
   "execution_count": 49,
   "metadata": {},
   "outputs": [],
   "source": [
    "# order_items['price'].median()"
   ]
  },
  {
   "cell_type": "code",
   "execution_count": 28,
   "metadata": {},
   "outputs": [
    {
     "data": {
      "text/html": [
       "<div>\n",
       "<style scoped>\n",
       "    .dataframe tbody tr th:only-of-type {\n",
       "        vertical-align: middle;\n",
       "    }\n",
       "\n",
       "    .dataframe tbody tr th {\n",
       "        vertical-align: top;\n",
       "    }\n",
       "\n",
       "    .dataframe thead th {\n",
       "        text-align: right;\n",
       "    }\n",
       "</style>\n",
       "<table border=\"1\" class=\"dataframe\">\n",
       "  <thead>\n",
       "    <tr style=\"text-align: right;\">\n",
       "      <th></th>\n",
       "      <th>order_id</th>\n",
       "      <th>order_item_id</th>\n",
       "      <th>product_id</th>\n",
       "      <th>seller_id</th>\n",
       "      <th>shipping_limit_date</th>\n",
       "      <th>price</th>\n",
       "      <th>freight_value</th>\n",
       "      <th>deviation_price</th>\n",
       "    </tr>\n",
       "  </thead>\n",
       "  <tbody>\n",
       "    <tr>\n",
       "      <th>27652</th>\n",
       "      <td>3ee6513ae7ea23bdfab5b9ab60bffcb5</td>\n",
       "      <td>1</td>\n",
       "      <td>8a3254bee785a526d548a81a9bc3c9be</td>\n",
       "      <td>96804ea39d96eb908e7c3afdb671bb9e</td>\n",
       "      <td>2018-05-04 03:55:26</td>\n",
       "      <td>0.85</td>\n",
       "      <td>18.23</td>\n",
       "      <td>74.14</td>\n",
       "    </tr>\n",
       "    <tr>\n",
       "      <th>87081</th>\n",
       "      <td>c5bdd8ef3c0ec420232e668302179113</td>\n",
       "      <td>2</td>\n",
       "      <td>8a3254bee785a526d548a81a9bc3c9be</td>\n",
       "      <td>96804ea39d96eb908e7c3afdb671bb9e</td>\n",
       "      <td>2018-05-07 02:55:22</td>\n",
       "      <td>0.85</td>\n",
       "      <td>22.30</td>\n",
       "      <td>74.14</td>\n",
       "    </tr>\n",
       "    <tr>\n",
       "      <th>48625</th>\n",
       "      <td>6e864b3f0ec71031117ad4cf46b7f2a1</td>\n",
       "      <td>1</td>\n",
       "      <td>8a3254bee785a526d548a81a9bc3c9be</td>\n",
       "      <td>96804ea39d96eb908e7c3afdb671bb9e</td>\n",
       "      <td>2018-05-02 20:30:34</td>\n",
       "      <td>0.85</td>\n",
       "      <td>18.23</td>\n",
       "      <td>74.14</td>\n",
       "    </tr>\n",
       "    <tr>\n",
       "      <th>57297</th>\n",
       "      <td>8272b63d03f5f79c56e9e4120aec44ef</td>\n",
       "      <td>1</td>\n",
       "      <td>270516a3f41dc035aa87d220228f844c</td>\n",
       "      <td>2709af9587499e95e803a6498a5a56e9</td>\n",
       "      <td>2017-07-21 18:25:23</td>\n",
       "      <td>1.20</td>\n",
       "      <td>7.89</td>\n",
       "      <td>73.79</td>\n",
       "    </tr>\n",
       "    <tr>\n",
       "      <th>57302</th>\n",
       "      <td>8272b63d03f5f79c56e9e4120aec44ef</td>\n",
       "      <td>6</td>\n",
       "      <td>05b515fdc76e888aada3c6d66c201dff</td>\n",
       "      <td>2709af9587499e95e803a6498a5a56e9</td>\n",
       "      <td>2017-07-21 18:25:23</td>\n",
       "      <td>1.20</td>\n",
       "      <td>7.89</td>\n",
       "      <td>73.79</td>\n",
       "    </tr>\n",
       "  </tbody>\n",
       "</table>\n",
       "</div>"
      ],
      "text/plain": [
       "                               order_id  order_item_id  \\\n",
       "27652  3ee6513ae7ea23bdfab5b9ab60bffcb5              1   \n",
       "87081  c5bdd8ef3c0ec420232e668302179113              2   \n",
       "48625  6e864b3f0ec71031117ad4cf46b7f2a1              1   \n",
       "57297  8272b63d03f5f79c56e9e4120aec44ef              1   \n",
       "57302  8272b63d03f5f79c56e9e4120aec44ef              6   \n",
       "\n",
       "                             product_id                         seller_id  \\\n",
       "27652  8a3254bee785a526d548a81a9bc3c9be  96804ea39d96eb908e7c3afdb671bb9e   \n",
       "87081  8a3254bee785a526d548a81a9bc3c9be  96804ea39d96eb908e7c3afdb671bb9e   \n",
       "48625  8a3254bee785a526d548a81a9bc3c9be  96804ea39d96eb908e7c3afdb671bb9e   \n",
       "57297  270516a3f41dc035aa87d220228f844c  2709af9587499e95e803a6498a5a56e9   \n",
       "57302  05b515fdc76e888aada3c6d66c201dff  2709af9587499e95e803a6498a5a56e9   \n",
       "\n",
       "       shipping_limit_date  price  freight_value  deviation_price  \n",
       "27652  2018-05-04 03:55:26   0.85          18.23            74.14  \n",
       "87081  2018-05-07 02:55:22   0.85          22.30            74.14  \n",
       "48625  2018-05-02 20:30:34   0.85          18.23            74.14  \n",
       "57297  2017-07-21 18:25:23   1.20           7.89            73.79  \n",
       "57302  2017-07-21 18:25:23   1.20           7.89            73.79  "
      ]
     },
     "execution_count": 28,
     "metadata": {},
     "output_type": "execute_result"
    }
   ],
   "source": [
    "df1['deviation_price'] = (df1['price'] - order_items['price'].median()).abs()\n",
    "df1.head()"
   ]
  },
  {
   "cell_type": "code",
   "execution_count": 33,
   "metadata": {},
   "outputs": [],
   "source": [
    "# df1.describe()"
   ]
  },
  {
   "cell_type": "code",
   "execution_count": 34,
   "metadata": {},
   "outputs": [
    {
     "name": "stdout",
     "output_type": "stream",
     "text": [
      "Left_MAD: -30.28\n"
     ]
    }
   ],
   "source": [
    "# df1['deviation_price'].median()\n",
    "Left_MAD = order_items['price'].median()-3*df1['deviation_price'].median()\n",
    "print(f'Left_MAD: {Left_MAD:.2f}')"
   ]
  },
  {
   "cell_type": "code",
   "execution_count": 35,
   "metadata": {},
   "outputs": [
    {
     "data": {
      "text/html": [
       "<div>\n",
       "<style scoped>\n",
       "    .dataframe tbody tr th:only-of-type {\n",
       "        vertical-align: middle;\n",
       "    }\n",
       "\n",
       "    .dataframe tbody tr th {\n",
       "        vertical-align: top;\n",
       "    }\n",
       "\n",
       "    .dataframe thead th {\n",
       "        text-align: right;\n",
       "    }\n",
       "</style>\n",
       "<table border=\"1\" class=\"dataframe\">\n",
       "  <thead>\n",
       "    <tr style=\"text-align: right;\">\n",
       "      <th></th>\n",
       "      <th>order_id</th>\n",
       "      <th>order_item_id</th>\n",
       "      <th>product_id</th>\n",
       "      <th>seller_id</th>\n",
       "      <th>shipping_limit_date</th>\n",
       "      <th>price</th>\n",
       "      <th>freight_value</th>\n",
       "      <th>deviation_price</th>\n",
       "    </tr>\n",
       "  </thead>\n",
       "  <tbody>\n",
       "    <tr>\n",
       "      <th>108483</th>\n",
       "      <td>f694a43692e80583d2b5b561d4af4488</td>\n",
       "      <td>1</td>\n",
       "      <td>55b71bf300a2765a382eaec566df531f</td>\n",
       "      <td>54a1852d1b8f10312c55e906355666ee</td>\n",
       "      <td>2018-05-16 14:55:28</td>\n",
       "      <td>74.99</td>\n",
       "      <td>23.10</td>\n",
       "      <td>0.0</td>\n",
       "    </tr>\n",
       "    <tr>\n",
       "      <th>24178</th>\n",
       "      <td>371a5e62da258e95c3cf015f28350f06</td>\n",
       "      <td>1</td>\n",
       "      <td>2f20a2013902657c0800ddf524514e4e</td>\n",
       "      <td>a673821011d0cec28146ea42f5ab767f</td>\n",
       "      <td>2018-05-21 21:57:48</td>\n",
       "      <td>74.99</td>\n",
       "      <td>8.88</td>\n",
       "      <td>0.0</td>\n",
       "    </tr>\n",
       "    <tr>\n",
       "      <th>30776</th>\n",
       "      <td>45de27572f22822e03786f094dee22f3</td>\n",
       "      <td>1</td>\n",
       "      <td>55b71bf300a2765a382eaec566df531f</td>\n",
       "      <td>54a1852d1b8f10312c55e906355666ee</td>\n",
       "      <td>2018-05-23 08:30:34</td>\n",
       "      <td>74.99</td>\n",
       "      <td>18.10</td>\n",
       "      <td>0.0</td>\n",
       "    </tr>\n",
       "    <tr>\n",
       "      <th>6871</th>\n",
       "      <td>0f916489801ab47804cc7da10fe0dd6d</td>\n",
       "      <td>1</td>\n",
       "      <td>2f20a2013902657c0800ddf524514e4e</td>\n",
       "      <td>a673821011d0cec28146ea42f5ab767f</td>\n",
       "      <td>2018-05-17 16:52:25</td>\n",
       "      <td>74.99</td>\n",
       "      <td>14.98</td>\n",
       "      <td>0.0</td>\n",
       "    </tr>\n",
       "    <tr>\n",
       "      <th>1890</th>\n",
       "      <td>0446aaa642b81cd046c44edda61ed010</td>\n",
       "      <td>1</td>\n",
       "      <td>d3ab527ab0d134eb8a034cab8e52a589</td>\n",
       "      <td>3b15288545f8928d3e65a8f949a28291</td>\n",
       "      <td>2017-10-23 13:49:20</td>\n",
       "      <td>74.99</td>\n",
       "      <td>27.06</td>\n",
       "      <td>0.0</td>\n",
       "    </tr>\n",
       "  </tbody>\n",
       "</table>\n",
       "</div>"
      ],
      "text/plain": [
       "                                order_id  order_item_id  \\\n",
       "108483  f694a43692e80583d2b5b561d4af4488              1   \n",
       "24178   371a5e62da258e95c3cf015f28350f06              1   \n",
       "30776   45de27572f22822e03786f094dee22f3              1   \n",
       "6871    0f916489801ab47804cc7da10fe0dd6d              1   \n",
       "1890    0446aaa642b81cd046c44edda61ed010              1   \n",
       "\n",
       "                              product_id                         seller_id  \\\n",
       "108483  55b71bf300a2765a382eaec566df531f  54a1852d1b8f10312c55e906355666ee   \n",
       "24178   2f20a2013902657c0800ddf524514e4e  a673821011d0cec28146ea42f5ab767f   \n",
       "30776   55b71bf300a2765a382eaec566df531f  54a1852d1b8f10312c55e906355666ee   \n",
       "6871    2f20a2013902657c0800ddf524514e4e  a673821011d0cec28146ea42f5ab767f   \n",
       "1890    d3ab527ab0d134eb8a034cab8e52a589  3b15288545f8928d3e65a8f949a28291   \n",
       "\n",
       "        shipping_limit_date  price  freight_value  deviation_price  \n",
       "108483  2018-05-16 14:55:28  74.99          23.10              0.0  \n",
       "24178   2018-05-21 21:57:48  74.99           8.88              0.0  \n",
       "30776   2018-05-23 08:30:34  74.99          18.10              0.0  \n",
       "6871    2018-05-17 16:52:25  74.99          14.98              0.0  \n",
       "1890    2017-10-23 13:49:20  74.99          27.06              0.0  "
      ]
     },
     "execution_count": 35,
     "metadata": {},
     "output_type": "execute_result"
    }
   ],
   "source": [
    "df2['deviation_price'] = (df2['price'] - order_items['price'].median()).abs()\n",
    "df2.head()"
   ]
  },
  {
   "cell_type": "code",
   "execution_count": 43,
   "metadata": {},
   "outputs": [],
   "source": [
    "# df2.describe()\n",
    "# df2['deviation_price'].median()"
   ]
  },
  {
   "cell_type": "code",
   "execution_count": 37,
   "metadata": {},
   "outputs": [
    {
     "name": "stdout",
     "output_type": "stream",
     "text": [
      "Right_MAD: 254.72\n"
     ]
    }
   ],
   "source": [
    "Right_MAD = order_items['price'].median()+3*df2['deviation_price'].median()\n",
    "print(f'Right_MAD: {Right_MAD:.2f}')"
   ]
  },
  {
   "cell_type": "code",
   "execution_count": 39,
   "metadata": {},
   "outputs": [
    {
     "name": "stdout",
     "output_type": "stream",
     "text": [
      "price: -30.28 - 254.72\n"
     ]
    }
   ],
   "source": [
    "print(f'price: {Left_MAD:.2f} - {Right_MAD:.2f}')"
   ]
  },
  {
   "cell_type": "code",
   "execution_count": 42,
   "metadata": {},
   "outputs": [
    {
     "data": {
      "text/plain": [
       "(103189, 7)"
      ]
     },
     "execution_count": 42,
     "metadata": {},
     "output_type": "execute_result"
    }
   ],
   "source": [
    "order_items_MADfiltered = order_items[(order_items['price'] < Right_MAD) & (order_items['price'] > Left_MAD)]\n",
    "order_items_MADfiltered.shape"
   ]
  },
  {
   "cell_type": "code",
   "execution_count": 43,
   "metadata": {},
   "outputs": [
    {
     "data": {
      "image/png": "[encoded data removed]",
      "text/plain": [
       "<Figure size 432x288 with 1 Axes>"
      ]
     },
     "metadata": {
      "needs_background": "light"
     },
     "output_type": "display_data"
    }
   ],
   "source": [
    "# смотрим как изменилось распределение переменной price\n",
    "n, bins, patches = plt.hist(order_items_MADfiltered['price'], 100)\n",
    "\n",
    "plt.xlabel('price')\n",
    "plt.ylabel('frecuency')\n",
    "plt.title('Частотный график price \\n (разбиение интервала по 100 элементов)')\n",
    "plt.grid(True)\n",
    "plt.show()"
   ]
  },
  {
   "cell_type": "code",
   "execution_count": 71,
   "metadata": {},
   "outputs": [
    {
     "data": {
      "text/plain": [
       "51595"
      ]
     },
     "execution_count": 71,
     "metadata": {},
     "output_type": "execute_result"
    }
   ],
   "source": [
    "# номер записи с медианой для нечетного кол-ва записей\n",
    "int((order_items_MADfiltered.shape[0]+1)/2)"
   ]
  },
  {
   "cell_type": "code",
   "execution_count": 72,
   "metadata": {},
   "outputs": [],
   "source": [
    "# отсортируем массив по freight_value и разделим его на две части (по номеру записи с медианой)\n",
    "# df3 = order_items_MADfiltered.sort_values('freight_value').iloc[:int((order_items_MADfiltered.shape[0]+1)/2), :] # до 51595-ой, всего 103189 записей \n",
    "# df4 = order_items_MADfiltered.sort_values('freight_value').iloc[int((order_items_MADfiltered.shape[0]+1)/2):, :] # с 51596-ой, всего 103189 записей\n",
    "\n",
    "df3 = order_items_MADfiltered.sort_values('freight_value').iloc[:int((order_items_MADfiltered.shape[0]+1)/2)] # до 51595-ой, всего 103189 записей \n",
    "df4 = order_items_MADfiltered.sort_values('freight_value').iloc[int((order_items_MADfiltered.shape[0]+1)/2):] # с 51596-ой, всего 103189 записей"
   ]
  },
  {
   "cell_type": "code",
   "execution_count": 56,
   "metadata": {},
   "outputs": [
    {
     "data": {
      "text/plain": [
       "15.95"
      ]
     },
     "execution_count": 56,
     "metadata": {},
     "output_type": "execute_result"
    }
   ],
   "source": [
    "order_items_MADfiltered['freight_value'].median()"
   ]
  },
  {
   "cell_type": "code",
   "execution_count": 70,
   "metadata": {},
   "outputs": [
    {
     "data": {
      "text/html": [
       "<div>\n",
       "<style scoped>\n",
       "    .dataframe tbody tr th:only-of-type {\n",
       "        vertical-align: middle;\n",
       "    }\n",
       "\n",
       "    .dataframe tbody tr th {\n",
       "        vertical-align: top;\n",
       "    }\n",
       "\n",
       "    .dataframe thead th {\n",
       "        text-align: right;\n",
       "    }\n",
       "</style>\n",
       "<table border=\"1\" class=\"dataframe\">\n",
       "  <thead>\n",
       "    <tr style=\"text-align: right;\">\n",
       "      <th></th>\n",
       "      <th>order_item_id</th>\n",
       "      <th>price</th>\n",
       "      <th>freight_value</th>\n",
       "    </tr>\n",
       "  </thead>\n",
       "  <tbody>\n",
       "    <tr>\n",
       "      <th>count</th>\n",
       "      <td>51594.000000</td>\n",
       "      <td>51594.000000</td>\n",
       "      <td>51594.000000</td>\n",
       "    </tr>\n",
       "    <tr>\n",
       "      <th>mean</th>\n",
       "      <td>1.188937</td>\n",
       "      <td>99.098493</td>\n",
       "      <td>24.938660</td>\n",
       "    </tr>\n",
       "    <tr>\n",
       "      <th>std</th>\n",
       "      <td>0.641146</td>\n",
       "      <td>58.463767</td>\n",
       "      <td>13.590524</td>\n",
       "    </tr>\n",
       "    <tr>\n",
       "      <th>min</th>\n",
       "      <td>1.000000</td>\n",
       "      <td>0.850000</td>\n",
       "      <td>15.950000</td>\n",
       "    </tr>\n",
       "    <tr>\n",
       "      <th>25%</th>\n",
       "      <td>1.000000</td>\n",
       "      <td>49.990000</td>\n",
       "      <td>17.740000</td>\n",
       "    </tr>\n",
       "    <tr>\n",
       "      <th>50%</th>\n",
       "      <td>1.000000</td>\n",
       "      <td>89.900000</td>\n",
       "      <td>19.760000</td>\n",
       "    </tr>\n",
       "    <tr>\n",
       "      <th>75%</th>\n",
       "      <td>1.000000</td>\n",
       "      <td>139.000000</td>\n",
       "      <td>26.320000</td>\n",
       "    </tr>\n",
       "    <tr>\n",
       "      <th>max</th>\n",
       "      <td>15.000000</td>\n",
       "      <td>254.400000</td>\n",
       "      <td>299.160000</td>\n",
       "    </tr>\n",
       "  </tbody>\n",
       "</table>\n",
       "</div>"
      ],
      "text/plain": [
       "       order_item_id         price  freight_value\n",
       "count   51594.000000  51594.000000   51594.000000\n",
       "mean        1.188937     99.098493      24.938660\n",
       "std         0.641146     58.463767      13.590524\n",
       "min         1.000000      0.850000      15.950000\n",
       "25%         1.000000     49.990000      17.740000\n",
       "50%         1.000000     89.900000      19.760000\n",
       "75%         1.000000    139.000000      26.320000\n",
       "max        15.000000    254.400000     299.160000"
      ]
     },
     "execution_count": 70,
     "metadata": {},
     "output_type": "execute_result"
    }
   ],
   "source": [
    "df4.describe()"
   ]
  },
  {
   "cell_type": "code",
   "execution_count": 73,
   "metadata": {},
   "outputs": [
    {
     "name": "stdout",
     "output_type": "stream",
     "text": [
      "Left_MAD_: 6.47\n"
     ]
    }
   ],
   "source": [
    "df3['deviation_freight_value'] = (df3['freight_value'] - order_items_MADfiltered['freight_value'].median()).abs()\n",
    "Left_MAD_ = order_items_MADfiltered['freight_value'].median()-3*df3['deviation_freight_value'].median()\n",
    "print(f'Left_MAD_: {Left_MAD_:.2f}')"
   ]
  },
  {
   "cell_type": "code",
   "execution_count": 74,
   "metadata": {},
   "outputs": [
    {
     "name": "stdout",
     "output_type": "stream",
     "text": [
      "Right_MAD_: 27.38\n"
     ]
    }
   ],
   "source": [
    "df4['deviation_freight_value'] = (df4['freight_value'] - order_items_MADfiltered['freight_value'].median()).abs()\n",
    "Right_MAD_ = order_items_MADfiltered['freight_value'].median()+3*df4['deviation_freight_value'].median()\n",
    "print(f'Right_MAD_: {Right_MAD_:.2f}')"
   ]
  },
  {
   "cell_type": "code",
   "execution_count": 75,
   "metadata": {},
   "outputs": [
    {
     "name": "stdout",
     "output_type": "stream",
     "text": [
      "freight_value: 6.47 - 27.38\n"
     ]
    }
   ],
   "source": [
    "print(f'freight_value: {Left_MAD_:.2f} - {Right_MAD_:.2f}')"
   ]
  },
  {
   "cell_type": "code",
   "execution_count": 76,
   "metadata": {},
   "outputs": [
    {
     "data": {
      "text/plain": [
       "(90302, 7)"
      ]
     },
     "execution_count": 76,
     "metadata": {},
     "output_type": "execute_result"
    }
   ],
   "source": [
    "order_items_MADfiltered_ = order_items_MADfiltered[(order_items_MADfiltered['freight_value'] < Right_MAD_) & (order_items_MADfiltered['freight_value'] > Left_MAD_)]\n",
    "order_items_MADfiltered_.shape"
   ]
  },
  {
   "cell_type": "code",
   "execution_count": 77,
   "metadata": {},
   "outputs": [
    {
     "data": {
      "image/png": "[encoded data removed]",
      "text/plain": [
       "<Figure size 432x288 with 1 Axes>"
      ]
     },
     "metadata": {
      "needs_background": "light"
     },
     "output_type": "display_data"
    }
   ],
   "source": [
    "# смотрим как изменилось распределение переменной freight_value\n",
    "n, bins, patches = plt.hist(order_items_MADfiltered_['freight_value'], 100)\n",
    "\n",
    "plt.xlabel('freight_value')\n",
    "plt.ylabel('frecuency')\n",
    "plt.title('Частотный график price \\n (разбиение интервала по 100 элементов)')\n",
    "plt.grid(True)\n",
    "plt.show()"
   ]
  },
  {
   "cell_type": "code",
   "execution_count": 78,
   "metadata": {},
   "outputs": [
    {
     "data": {
      "image/png": "[encoded data removed]",
      "text/plain": [
       "<Figure size 432x288 with 1 Axes>"
      ]
     },
     "metadata": {
      "needs_background": "light"
     },
     "output_type": "display_data"
    }
   ],
   "source": [
    "# смотрим как изменилось распределение переменной price\n",
    "n, bins, patches = plt.hist(order_items_MADfiltered_['price'], 100)\n",
    "\n",
    "plt.xlabel('price')\n",
    "plt.ylabel('frecuency')\n",
    "plt.title('Частотный график price \\n (разбиение интервала по 100 элементов)')\n",
    "plt.grid(True)\n",
    "plt.show()"
   ]
  },
  {
   "cell_type": "code",
   "execution_count": null,
   "metadata": {},
   "outputs": [],
   "source": []
  },
  {
   "cell_type": "markdown",
   "metadata": {
    "scrolled": true
   },
   "source": [
    "### квантили 0,01 и 0,99"
   ]
  },
  {
   "cell_type": "code",
   "execution_count": 40,
   "metadata": {},
   "outputs": [],
   "source": [
    "# считаем квантили 0,01 и 0,99 для переменной price\n",
    "q_low = order_items['price'].quantile(.01)\n",
    "q_hi = order_items['price'].quantile(.99)\n",
    "# print(q_low, q_hi)"
   ]
  },
  {
   "cell_type": "code",
   "execution_count": 41,
   "metadata": {},
   "outputs": [
    {
     "data": {
      "text/plain": [
       "(110333, 7)"
      ]
     },
     "execution_count": 41,
     "metadata": {},
     "output_type": "execute_result"
    }
   ],
   "source": [
    "# исключим значения за пределами этих квантилей\n",
    "order_items_filtered = order_items[(order_items['price'] < q_hi) & (order_items['price'] > q_low)]\n",
    "# order_items_filtered = order_items[order_items['price'] < q_hi]\n",
    "order_items_filtered.shape"
   ]
  },
  {
   "cell_type": "code",
   "execution_count": 43,
   "metadata": {},
   "outputs": [
    {
     "data": {
      "image/png": "[encoded data removed]",
      "text/plain": [
       "<Figure size 1008x288 with 2 Axes>"
      ]
     },
     "metadata": {
      "needs_background": "light"
     },
     "output_type": "display_data"
    }
   ],
   "source": [
    "# Смотрим, как изменились распределения переменных\n",
    "fig, axes = plt.subplots(1, 2, figsize=(14,4))\n",
    "order_items_filtered[['price']].hist('price', bins=100, ax=axes[0])\n",
    "order_items_filtered[['freight_value']].hist('freight_value', bins=100, ax=axes[1])\n",
    "fig.suptitle('Частотные графики переменных (разбиение интервала по 100 элементов)', fontsize=12)\n",
    "plt.show()"
   ]
  },
  {
   "cell_type": "code",
   "execution_count": 49,
   "metadata": {},
   "outputs": [],
   "source": [
    "# считаем квантили 0,01 и 0,99 для переменной freight_value\n",
    "q_low_ = order_items_filtered['freight_value'].quantile(.01)\n",
    "q_hi_ = order_items_filtered['freight_value'].quantile(.99)\n",
    "# print(q_low, q_hi)"
   ]
  },
  {
   "cell_type": "code",
   "execution_count": 50,
   "metadata": {},
   "outputs": [
    {
     "data": {
      "text/plain": [
       "(108123, 7)"
      ]
     },
     "execution_count": 50,
     "metadata": {},
     "output_type": "execute_result"
    }
   ],
   "source": [
    "# исключим значения за пределами этих квантилей\n",
    "order_items_filtered_ = order_items_filtered[(order_items_filtered['freight_value'] < q_hi_) & \\\n",
    "                                             (order_items_filtered['freight_value'] > q_low_)]\n",
    "# order_items_filtered = order_items[order_items['price'] < q_hi]\n",
    "order_items_filtered_.shape"
   ]
  },
  {
   "cell_type": "code",
   "execution_count": 51,
   "metadata": {},
   "outputs": [
    {
     "data": {
      "image/png": "[encoded data removed]",
      "text/plain": [
       "<Figure size 1008x288 with 2 Axes>"
      ]
     },
     "metadata": {
      "needs_background": "light"
     },
     "output_type": "display_data"
    }
   ],
   "source": [
    "# Смотрим, как изменились распределения переменных\n",
    "fig, axes = plt.subplots(1, 2, figsize=(14,4))\n",
    "order_items_filtered_[['price']].hist('price', bins=100, ax=axes[0])\n",
    "order_items_filtered_[['freight_value']].hist('freight_value', bins=100, ax=axes[1])\n",
    "fig.suptitle('Частотные графики переменных (разбиение интервала по 100 элементов)', fontsize=12)\n",
    "plt.show()"
   ]
  },
  {
   "cell_type": "code",
   "execution_count": null,
   "metadata": {},
   "outputs": [],
   "source": []
  }
 ],
 "metadata": {
  "kernelspec": {
   "display_name": "Python 3",
   "language": "python",
   "name": "python3"
  },
  "language_info": {
   "codemirror_mode": {
    "name": "ipython",
    "version": 3
   },
   "file_extension": ".py",
   "mimetype": "text/x-python",
   "name": "python",
   "nbconvert_exporter": "python",
   "pygments_lexer": "ipython3",
   "version": "3.7.3"
  }
 },
 "nbformat": 4,
 "nbformat_minor": 2
}
